{
 "cells": [
  {
   "cell_type": "markdown",
   "id": "dc16e041",
   "metadata": {},
   "source": [
    "#201902410 언어인지과학과 윤혜주 travers_all 작동, insert_at 오류( position이 1인 경우, 제일 처음에 넣는 것 부터 오류가 남을 확인함)\n",
    "        \n"
   ]
  },
  {
   "cell_type": "code",
   "execution_count": 179,
   "id": "7444063d",
   "metadata": {},
   "outputs": [
    {
     "ename": "SyntaxError",
     "evalue": "invalid syntax. Maybe you meant '==' or ':=' instead of '='? (3773504326.py, line 96)",
     "output_type": "error",
     "traceback": [
      "\u001b[1;36m  Cell \u001b[1;32mIn[179], line 96\u001b[1;36m\u001b[0m\n\u001b[1;33m    elif position = 1: # position이 1인경우\u001b[0m\n\u001b[1;37m         ^\u001b[0m\n\u001b[1;31mSyntaxError\u001b[0m\u001b[1;31m:\u001b[0m invalid syntax. Maybe you meant '==' or ':=' instead of '='?\n"
     ]
    }
   ],
   "source": [
    "class Node:\n",
    "\tdef __init__(self, data):\n",
    "\t\tself.data = data\n",
    "\t\tself.next = None\n",
    "\n",
    "class LinkedList:\n",
    "\n",
    "    # 초기화 메소드\n",
    "    def __init__(self):\n",
    "        dummy = Node(\"dummy\")\n",
    "        self.head = dummy\n",
    "        self.tail = dummy\n",
    "\n",
    "        self.current = None\n",
    "        self.before = None\n",
    "\n",
    "        self.num_of_data = 0\n",
    "\n",
    "    # append 메소드 (insert - 맨 뒤에 노드 추가, tail과 node의 next, 데이터 개수 변경)\n",
    "    def append(self, data):\n",
    "        new_node = Node(data)\n",
    "        self.tail.next = new_node\n",
    "        self.tail = new_node\n",
    "\n",
    "        self.num_of_data += 1\n",
    "\n",
    "    # delete 메소드 (delete - current 노드 삭제, 인접 노드의 current, next 변경, 데이터 개수 변경)\n",
    "    def delete(self):\n",
    "        pop_data = self.current.data\n",
    "\n",
    "        if self.current is self.tail:\n",
    "            self.tail = self.before\n",
    "\n",
    "            # 중요 : current가 next가 아닌 before로 변경된다.\n",
    "            self.before.next = self.current.next\n",
    "            self.current = self.before \n",
    "\n",
    "            self.num_of_data -= 1\n",
    "\n",
    "            return pop_data\n",
    "\n",
    "    # first 메소드 (search1 - 맨 앞의 노드 검색, before, current 변경)\n",
    "    def first(self):\n",
    "        # 데이터가 없는 경우 첫번째 노드도 없기 때문에 None 리턴\n",
    "        if self.num_of_data == 0: \n",
    "            return None\n",
    "\n",
    "        self.before = self.head\n",
    "        self.current = self.head.next\n",
    "\n",
    "        return self.current.data\n",
    "\n",
    "    # next 메소드 (search2 - current 노드의 다음 노드 검색, 이전에 first 메소드가 한번은 실행되어야 함)\n",
    "    def next(self):\n",
    "        if self.current.next == None:\n",
    "            return None\n",
    "\n",
    "        self.before = self.current\n",
    "        self.current = self.current.next\n",
    "\n",
    "        return self.current.data\n",
    "\n",
    "    # size 메소드\n",
    "    def size(self):\n",
    "        return self.num_of_data\n",
    "    \n",
    "    def traverse_all(self):\n",
    "        print(\"head\",end ='->')\n",
    "        data = l_list.first()\n",
    "        if data:\n",
    "            print(\"(%s)\"%(data), end= '->')\n",
    "        while True:\n",
    "            data = l_list.next()\n",
    "            if data:\n",
    "                print(\"(%s)\"%(data),end=\"->\")\n",
    "            elif data == None:\n",
    "                print(\"null\")\n",
    "                break\n",
    " \n",
    "        \n",
    "        \n",
    "    def insert_at(self,position,new_data):\n",
    "        new_node = Node(new_data)\n",
    "        #self.current = self.head\n",
    "        \n",
    "\n",
    "        if position < 0 : # index가 0보다 작다면\n",
    "            print(\"error\") # error 출력\n",
    "                \n",
    "        elif position > self.num_of_data :  # 원래의 노드 넘버보다 큰 position 값이 들어온다면\n",
    "            self.tail.next = new_node #tail, 즉 원래의 노드 제일 끝 다음에 new node를 insert\n",
    "            self.tail = new_node #tail은 new node가 됨\n",
    "            self.num_of_data += 1 #노드 넘버에 추가된 노드 반영\n",
    "            print('laza')\n",
    "            \n",
    "        elif position = 1: # position이 1인경우\n",
    "            self.current = self.head\n",
    "            new_node = Node(new_data)\n",
    "            new_node.next = self.head #new_node 다음이 원래의 head\n",
    "            self.head = new_node #head노드는 지금의 new node\n",
    "            #self.num_of_data += 1\n",
    "                \n",
    "#         while count < position: #0보다 작지않고, 원래의 노드 넘버보다 큰 값이 입력되지 않은 경우\n",
    "#             count += 1\n",
    "#             if count == position: # count 값과 position이 같은 경우\n",
    "#                 self.current.next = self.current\n",
    "#                 self.current = new_node\n",
    "#                 self.num_of_data += 1\n",
    "\n",
    "                \n",
    "                \n",
    "            \n",
    "            \n",
    "        \n",
    "        \n",
    "      \n",
    "            \n",
    "            \n",
    "            \n",
    "            \n",
    "\n",
    "            \n",
    "                \n",
    "                \n",
    "            \n",
    "      \n",
    "            \n",
    "            \n",
    "        \n"
   ]
  },
  {
   "cell_type": "code",
   "execution_count": null,
   "id": "cecd3bf9",
   "metadata": {},
   "outputs": [],
   "source": []
  },
  {
   "cell_type": "code",
   "execution_count": null,
   "id": "1c3e9bdf",
   "metadata": {},
   "outputs": [],
   "source": []
  },
  {
   "cell_type": "code",
   "execution_count": 180,
   "id": "59b9a032",
   "metadata": {},
   "outputs": [],
   "source": [
    "if __name__ == \"__main__\":\n",
    "  l_list = LinkedList()\n",
    "  l_list.append(5)\n",
    "  l_list.append(7)\n",
    "  l_list.append(10)\n",
    "  l_list.append(9)\n",
    "  l_list.append(8)"
   ]
  },
  {
   "cell_type": "code",
   "execution_count": 181,
   "id": "ca9aecf9",
   "metadata": {},
   "outputs": [
    {
     "name": "stdout",
     "output_type": "stream",
     "text": [
      "None\n"
     ]
    }
   ],
   "source": [
    "print(l_list.insert_at(3,1))\n"
   ]
  },
  {
   "cell_type": "code",
   "execution_count": 182,
   "id": "0070538b",
   "metadata": {},
   "outputs": [
    {
     "name": "stdout",
     "output_type": "stream",
     "text": [
      "head->(5)->(7)->(10)->(9)->(8)->null\n",
      "None\n"
     ]
    }
   ],
   "source": [
    "print(l_list.traverse_all())"
   ]
  }
 ],
 "metadata": {
  "kernelspec": {
   "display_name": "Python 3 (ipykernel)",
   "language": "python",
   "name": "python3"
  },
  "language_info": {
   "codemirror_mode": {
    "name": "ipython",
    "version": 3
   },
   "file_extension": ".py",
   "mimetype": "text/x-python",
   "name": "python",
   "nbconvert_exporter": "python",
   "pygments_lexer": "ipython3",
   "version": "3.11.1"
  },
  "toc": {
   "base_numbering": 1,
   "nav_menu": {},
   "number_sections": true,
   "sideBar": true,
   "skip_h1_title": false,
   "title_cell": "Table of Contents",
   "title_sidebar": "Contents",
   "toc_cell": false,
   "toc_position": {},
   "toc_section_display": true,
   "toc_window_display": false
  }
 },
 "nbformat": 4,
 "nbformat_minor": 5
}
